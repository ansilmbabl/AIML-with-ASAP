{
 "cells": [
  {
   "cell_type": "markdown",
   "id": "c84d4aba",
   "metadata": {},
   "source": [
    "# 27 JAN 2023"
   ]
  },
  {
   "cell_type": "markdown",
   "id": "dec135df",
   "metadata": {},
   "source": [
    "## Data Structures in Python"
   ]
  },
  {
   "cell_type": "markdown",
   "id": "68158363",
   "metadata": {},
   "source": [
    "### Stack\n",
    "implement stack using list"
   ]
  },
  {
   "cell_type": "code",
   "execution_count": 10,
   "id": "ffc2d8f3",
   "metadata": {},
   "outputs": [],
   "source": [
    "# appaend() for adding to last\n",
    "# pop() to remove last\n",
    "\n",
    "stack = []\n",
    "\n",
    "def push(n):\n",
    "    stack.append(n)\n",
    "    \n",
    "def pop():\n",
    "    if not isEmpty():\n",
    "        e=stack.pop(len(stack)-1)\n",
    "        print(e,\"popped succesfully\")\n",
    "    else:\n",
    "        print(\"empty stack\")\n",
    "        \n",
    "def isEmpty():\n",
    "    if len(stack)==0:\n",
    "        return True\n",
    "    else:\n",
    "        return False\n",
    "    \n",
    "def visitTop():\n",
    "    if not isEmpty():\n",
    "        print(stack[len(stack)-1])\n",
    "    else:\n",
    "        print(\"empty stack\")\n",
    "        \n",
    "\n"
   ]
  },
  {
   "cell_type": "code",
   "execution_count": 11,
   "id": "0e362782",
   "metadata": {},
   "outputs": [],
   "source": [
    "push(12)"
   ]
  },
  {
   "cell_type": "code",
   "execution_count": 12,
   "id": "fce051ba",
   "metadata": {},
   "outputs": [
    {
     "name": "stdout",
     "output_type": "stream",
     "text": [
      "12\n"
     ]
    }
   ],
   "source": [
    "visitTop()"
   ]
  },
  {
   "cell_type": "code",
   "execution_count": 13,
   "id": "c66fc886",
   "metadata": {},
   "outputs": [],
   "source": [
    "push(30)\n",
    "push(100)\n",
    "push(43)"
   ]
  },
  {
   "cell_type": "code",
   "execution_count": 14,
   "id": "4a82ae1f",
   "metadata": {},
   "outputs": [
    {
     "name": "stdout",
     "output_type": "stream",
     "text": [
      "43\n"
     ]
    }
   ],
   "source": [
    "visitTop()"
   ]
  },
  {
   "cell_type": "code",
   "execution_count": 15,
   "id": "e1a640cf",
   "metadata": {},
   "outputs": [
    {
     "name": "stdout",
     "output_type": "stream",
     "text": [
      "43 popped succesfully\n"
     ]
    }
   ],
   "source": [
    "pop()"
   ]
  },
  {
   "cell_type": "code",
   "execution_count": 16,
   "id": "429de2c9",
   "metadata": {},
   "outputs": [
    {
     "name": "stdout",
     "output_type": "stream",
     "text": [
      "100 popped succesfully\n"
     ]
    }
   ],
   "source": [
    "pop()"
   ]
  },
  {
   "cell_type": "code",
   "execution_count": 17,
   "id": "9bccb2b9",
   "metadata": {},
   "outputs": [
    {
     "name": "stdout",
     "output_type": "stream",
     "text": [
      "30 popped succesfully\n"
     ]
    }
   ],
   "source": [
    "pop()"
   ]
  },
  {
   "cell_type": "code",
   "execution_count": 18,
   "id": "087ba98f",
   "metadata": {},
   "outputs": [
    {
     "name": "stdout",
     "output_type": "stream",
     "text": [
      "12 popped succesfully\n"
     ]
    }
   ],
   "source": [
    "pop()"
   ]
  },
  {
   "cell_type": "code",
   "execution_count": 19,
   "id": "725719bd",
   "metadata": {},
   "outputs": [
    {
     "name": "stdout",
     "output_type": "stream",
     "text": [
      "empty stack\n"
     ]
    }
   ],
   "source": [
    "pop()"
   ]
  },
  {
   "cell_type": "markdown",
   "id": "ed9fb783",
   "metadata": {},
   "source": [
    "### Queue\n",
    "implement using lst"
   ]
  },
  {
   "cell_type": "code",
   "execution_count": 31,
   "id": "b31df4d5",
   "metadata": {},
   "outputs": [
    {
     "name": "stdout",
     "output_type": "stream",
     "text": [
      "Enter the size of Queue: 5\n"
     ]
    }
   ],
   "source": [
    "q = []\n",
    "\n",
    "size = int(input(\"Enter the size of Queue: \"))"
   ]
  },
  {
   "cell_type": "code",
   "execution_count": 32,
   "id": "ef68f304",
   "metadata": {},
   "outputs": [],
   "source": [
    "def enqueue(n):\n",
    "    if not isFull():\n",
    "        q.append(n)\n",
    "    else:\n",
    "        print(\"Queue is full\")\n",
    "        \n",
    "def dequeue():\n",
    "    if not isEmpty():\n",
    "        e=q.pop(0)\n",
    "        print(e,\" is removed from queue\")\n",
    "    else:\n",
    "        print(\"empty queue\")\n",
    "        \n",
    "def isEmpty():\n",
    "    if len(q)==0:\n",
    "        return True\n",
    "    else:\n",
    "        return False\n",
    "    \n",
    "def isFull():\n",
    "    if len(q)==size:\n",
    "        return True\n",
    "    else:\n",
    "        return False\n",
    "    \n"
   ]
  },
  {
   "cell_type": "code",
   "execution_count": 33,
   "id": "8772e187",
   "metadata": {},
   "outputs": [],
   "source": [
    "enqueue(10)\n",
    "enqueue(30)\n",
    "enqueue(45)\n",
    "enqueue(23)\n",
    "enqueue(12)"
   ]
  },
  {
   "cell_type": "code",
   "execution_count": 34,
   "id": "d0baab32",
   "metadata": {},
   "outputs": [
    {
     "name": "stdout",
     "output_type": "stream",
     "text": [
      "[10, 30, 45, 23, 12]\n"
     ]
    }
   ],
   "source": [
    "print(q)"
   ]
  },
  {
   "cell_type": "code",
   "execution_count": 36,
   "id": "f430514c",
   "metadata": {},
   "outputs": [
    {
     "name": "stdout",
     "output_type": "stream",
     "text": [
      "10  is removed from queue\n"
     ]
    }
   ],
   "source": [
    "dequeue()"
   ]
  },
  {
   "cell_type": "code",
   "execution_count": 37,
   "id": "cb9d1e66",
   "metadata": {},
   "outputs": [
    {
     "name": "stdout",
     "output_type": "stream",
     "text": [
      "30  is removed from queue\n"
     ]
    }
   ],
   "source": [
    "dequeue()"
   ]
  },
  {
   "cell_type": "code",
   "execution_count": 38,
   "id": "1c4f446b",
   "metadata": {},
   "outputs": [
    {
     "name": "stdout",
     "output_type": "stream",
     "text": [
      "45  is removed from queue\n"
     ]
    }
   ],
   "source": [
    "dequeue()"
   ]
  },
  {
   "cell_type": "code",
   "execution_count": 39,
   "id": "f839732a",
   "metadata": {},
   "outputs": [
    {
     "name": "stdout",
     "output_type": "stream",
     "text": [
      "23  is removed from queue\n"
     ]
    }
   ],
   "source": [
    "dequeue()"
   ]
  },
  {
   "cell_type": "code",
   "execution_count": 40,
   "id": "4282feed",
   "metadata": {},
   "outputs": [
    {
     "name": "stdout",
     "output_type": "stream",
     "text": [
      "12  is removed from queue\n"
     ]
    }
   ],
   "source": [
    "dequeue()"
   ]
  },
  {
   "cell_type": "code",
   "execution_count": 41,
   "id": "7bf09cb4",
   "metadata": {},
   "outputs": [
    {
     "name": "stdout",
     "output_type": "stream",
     "text": [
      "empty queue\n"
     ]
    }
   ],
   "source": [
    "dequeue()"
   ]
  },
  {
   "cell_type": "markdown",
   "id": "68b9da36",
   "metadata": {},
   "source": [
    "implementing Queue using collections module "
   ]
  },
  {
   "cell_type": "code",
   "execution_count": 43,
   "id": "7c7e9347",
   "metadata": {},
   "outputs": [
    {
     "name": "stdout",
     "output_type": "stream",
     "text": [
      "deque([10, 30], maxlen=5)\n"
     ]
    }
   ],
   "source": [
    "from collections import deque\n",
    "q = deque([],5) #creating a collectoin of 5(aize) elements\n",
    "\n",
    "q.append(10)\n",
    "q.append(30)\n",
    "print(q)"
   ]
  },
  {
   "cell_type": "code",
   "execution_count": 44,
   "id": "e07e328e",
   "metadata": {},
   "outputs": [],
   "source": [
    "q.append(89)"
   ]
  },
  {
   "cell_type": "code",
   "execution_count": 45,
   "id": "efa82da0",
   "metadata": {},
   "outputs": [
    {
     "name": "stdout",
     "output_type": "stream",
     "text": [
      "deque([10, 30, 89, 90, 56], maxlen=5)\n"
     ]
    }
   ],
   "source": [
    "q.append(90)\n",
    "q.append(56)\n",
    "print(q)"
   ]
  },
  {
   "cell_type": "code",
   "execution_count": 46,
   "id": "9b289aa9",
   "metadata": {},
   "outputs": [
    {
     "name": "stdout",
     "output_type": "stream",
     "text": [
      "deque([30, 89, 90, 56, 310], maxlen=5)\n"
     ]
    }
   ],
   "source": [
    "q.append(310)\n",
    "print(q)"
   ]
  },
  {
   "cell_type": "code",
   "execution_count": 47,
   "id": "6ebb173a",
   "metadata": {},
   "outputs": [
    {
     "name": "stdout",
     "output_type": "stream",
     "text": [
      "deque([89, 90, 56, 310], maxlen=5)\n"
     ]
    }
   ],
   "source": [
    "q.popleft()\n",
    "print(q)"
   ]
  },
  {
   "cell_type": "code",
   "execution_count": 48,
   "id": "2247a7cc",
   "metadata": {},
   "outputs": [
    {
     "name": "stdout",
     "output_type": "stream",
     "text": [
      "deque([90, 56, 310], maxlen=5)\n"
     ]
    }
   ],
   "source": [
    "q.popleft()\n",
    "print(q)"
   ]
  },
  {
   "cell_type": "code",
   "execution_count": 49,
   "id": "73b8d7a2",
   "metadata": {},
   "outputs": [
    {
     "name": "stdout",
     "output_type": "stream",
     "text": [
      "3\n"
     ]
    }
   ],
   "source": [
    "print(len(q))"
   ]
  },
  {
   "cell_type": "markdown",
   "id": "39f42579",
   "metadata": {},
   "source": [
    "using Queue module"
   ]
  },
  {
   "cell_type": "code",
   "execution_count": 50,
   "id": "226d5b1a",
   "metadata": {},
   "outputs": [
    {
     "name": "stdout",
     "output_type": "stream",
     "text": [
      "0\n"
     ]
    }
   ],
   "source": [
    "from queue import Queue\n",
    "q = Queue(maxsize=5)\n",
    "print(q.qsize())"
   ]
  },
  {
   "cell_type": "code",
   "execution_count": 58,
   "id": "1aac684f",
   "metadata": {},
   "outputs": [],
   "source": [
    "def enque(n):\n",
    "    if not q.full():\n",
    "        q.put(n)\n",
    "        print(\"qsize: \",q.qsize())\n",
    "    else:\n",
    "        print(\"queue is full\")\n",
    "        \n",
    "def deque():\n",
    "    if not q.empty():\n",
    "        e=q.get()\n",
    "        print(e,\" removed\")\n",
    "    else:\n",
    "        print(\"empty queue\")\n",
    "        "
   ]
  },
  {
   "cell_type": "code",
   "execution_count": 59,
   "id": "51f6cf6b",
   "metadata": {},
   "outputs": [
    {
     "name": "stdout",
     "output_type": "stream",
     "text": [
      "qsize:  5\n"
     ]
    }
   ],
   "source": [
    "enque(9)"
   ]
  },
  {
   "cell_type": "code",
   "execution_count": 53,
   "id": "ab233036",
   "metadata": {
    "scrolled": true
   },
   "outputs": [
    {
     "name": "stdout",
     "output_type": "stream",
     "text": [
      "9  removed\n"
     ]
    }
   ],
   "source": [
    "deque()"
   ]
  },
  {
   "cell_type": "code",
   "execution_count": 54,
   "id": "543cecd1",
   "metadata": {},
   "outputs": [
    {
     "name": "stdout",
     "output_type": "stream",
     "text": [
      "qsize:  <bound method Queue.qsize of <queue.Queue object at 0x000001AE1E742550>>\n"
     ]
    }
   ],
   "source": [
    "enque(9)"
   ]
  },
  {
   "cell_type": "code",
   "execution_count": 55,
   "id": "0bfa9d45",
   "metadata": {},
   "outputs": [
    {
     "name": "stdout",
     "output_type": "stream",
     "text": [
      "qsize:  <bound method Queue.qsize of <queue.Queue object at 0x000001AE1E742550>>\n"
     ]
    }
   ],
   "source": [
    "enque(15)"
   ]
  },
  {
   "cell_type": "code",
   "execution_count": 56,
   "id": "04f3de35",
   "metadata": {
    "scrolled": true
   },
   "outputs": [
    {
     "name": "stdout",
     "output_type": "stream",
     "text": [
      "qsize:  <bound method Queue.qsize of <queue.Queue object at 0x000001AE1E742550>>\n"
     ]
    }
   ],
   "source": [
    "enque(12)"
   ]
  },
  {
   "cell_type": "code",
   "execution_count": 57,
   "id": "d44e9ea3",
   "metadata": {
    "scrolled": true
   },
   "outputs": [
    {
     "name": "stdout",
     "output_type": "stream",
     "text": [
      "qsize:  <bound method Queue.qsize of <queue.Queue object at 0x000001AE1E742550>>\n"
     ]
    }
   ],
   "source": [
    "enque(56)"
   ]
  },
  {
   "cell_type": "code",
   "execution_count": 61,
   "id": "c19778c8",
   "metadata": {},
   "outputs": [
    {
     "name": "stdout",
     "output_type": "stream",
     "text": [
      "<queue.Queue object at 0x000001AE1E742550>\n"
     ]
    }
   ],
   "source": [
    "print(q)"
   ]
  },
  {
   "cell_type": "code",
   "execution_count": 62,
   "id": "e4c36003",
   "metadata": {},
   "outputs": [
    {
     "name": "stdout",
     "output_type": "stream",
     "text": [
      "9  removed\n"
     ]
    }
   ],
   "source": [
    "deque()"
   ]
  },
  {
   "cell_type": "code",
   "execution_count": 63,
   "id": "b32b83a3",
   "metadata": {},
   "outputs": [
    {
     "name": "stdout",
     "output_type": "stream",
     "text": [
      "15  removed\n"
     ]
    }
   ],
   "source": [
    "deque()"
   ]
  },
  {
   "cell_type": "code",
   "execution_count": 64,
   "id": "c5693fdc",
   "metadata": {},
   "outputs": [
    {
     "name": "stdout",
     "output_type": "stream",
     "text": [
      "12  removed\n"
     ]
    }
   ],
   "source": [
    "deque()"
   ]
  },
  {
   "cell_type": "code",
   "execution_count": 65,
   "id": "b1d28fb4",
   "metadata": {},
   "outputs": [
    {
     "name": "stdout",
     "output_type": "stream",
     "text": [
      "56  removed\n"
     ]
    }
   ],
   "source": [
    "deque()"
   ]
  },
  {
   "cell_type": "code",
   "execution_count": 66,
   "id": "46458c9b",
   "metadata": {},
   "outputs": [
    {
     "name": "stdout",
     "output_type": "stream",
     "text": [
      "9  removed\n"
     ]
    }
   ],
   "source": [
    "deque()"
   ]
  },
  {
   "cell_type": "code",
   "execution_count": 67,
   "id": "0906e29b",
   "metadata": {},
   "outputs": [
    {
     "name": "stdout",
     "output_type": "stream",
     "text": [
      "empty queue\n"
     ]
    }
   ],
   "source": [
    "deque()"
   ]
  },
  {
   "cell_type": "markdown",
   "id": "20ffa162",
   "metadata": {},
   "source": [
    "### Linked list\n",
    "#### singly linked list"
   ]
  },
  {
   "cell_type": "code",
   "execution_count": null,
   "id": "a77afb18",
   "metadata": {},
   "outputs": [],
   "source": [
    "# Node class\n",
    "\n",
    "class Node:\n",
    "    def __init__(self,data):\n",
    "        self.data = data\n",
    "        self.next = None\n",
    "        \n",
    "# Linked list\n",
    "\n",
    "class Linkedlist:\n",
    "    def __init__(self):\n",
    "        self.head = None\n",
    "        \n",
    "l_list = Linkedlist()\n",
    "n1 = Node(\"abc\")\n",
    "l_list.head = n1\n",
    "n2 = Node(\"xyz\")\n",
    "n1.next = n2\n",
    "\n",
    "#travsersing through the nodes\n"
   ]
  }
 ],
 "metadata": {
  "kernelspec": {
   "display_name": "Python 3 (ipykernel)",
   "language": "python",
   "name": "python3"
  },
  "language_info": {
   "codemirror_mode": {
    "name": "ipython",
    "version": 3
   },
   "file_extension": ".py",
   "mimetype": "text/x-python",
   "name": "python",
   "nbconvert_exporter": "python",
   "pygments_lexer": "ipython3",
   "version": "3.11.1"
  }
 },
 "nbformat": 4,
 "nbformat_minor": 5
}
