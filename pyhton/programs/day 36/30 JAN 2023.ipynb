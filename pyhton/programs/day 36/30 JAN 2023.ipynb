{
 "cells": [
  {
   "cell_type": "markdown",
   "id": "fbc3b5a4",
   "metadata": {},
   "source": [
    "# 30 JAN 2023"
   ]
  },
  {
   "cell_type": "markdown",
   "id": "4a7cce76",
   "metadata": {},
   "source": [
    "## User defined data structures (Cont.)"
   ]
  },
  {
   "cell_type": "markdown",
   "id": "55043548",
   "metadata": {},
   "source": [
    "### Linked list\n",
    "singly likned list"
   ]
  },
  {
   "cell_type": "code",
   "execution_count": 19,
   "id": "cd3bc552",
   "metadata": {},
   "outputs": [
    {
     "name": "stdout",
     "output_type": "stream",
     "text": [
      "Saturday is not found\n",
      "Sunday\n",
      "Monday\n",
      "Tuesday\n",
      "Thursday\n"
     ]
    }
   ],
   "source": [
    "# Node class\n",
    "class Node:\n",
    "    def __init__(self,data):\n",
    "        self.data = data\n",
    "        self.next = None\n",
    "        \n",
    "        \n",
    "# Linked list\n",
    "class Linkedlist:\n",
    "    def __init__(self):\n",
    "        self.head = None\n",
    "        \n",
    "    #travsersing through the nodes\n",
    "    def list_traversal(self):\n",
    "        temp = self.head\n",
    "        while temp is not None:\n",
    "            print(temp.data)\n",
    "            temp = temp.next\n",
    "\n",
    "\n",
    "    #inserting node at the beginning\n",
    "    def insert_beg(self,data):\n",
    "        new = Node(data)\n",
    "        new.next = self.head\n",
    "        self.head = new\n",
    "        \n",
    "    #inserting node at the end\n",
    "    def insert_end(self,data):\n",
    "        last = Node(data)\n",
    "        if self.head is None:\n",
    "            self.head = last\n",
    "            return\n",
    "        else:\n",
    "            temp = self.head\n",
    "            while temp.next is not None:\n",
    "                temp = temp.next\n",
    "            temp.next = last\n",
    "            \n",
    "    #inserting in between\n",
    "    def insert_btw(self,data,position):\n",
    "        new = Node(data)\n",
    "        if position <1:\n",
    "            print(\"Invalid position \")\n",
    "        elif position == 1:\n",
    "            new.next = self.head\n",
    "            self.head = new\n",
    "        else:\n",
    "            temp = self.head\n",
    "            for i in range(1,position-1):\n",
    "                temp = temp.next\n",
    "            new.next = temp.next\n",
    "            temp.next = new\n",
    "            \n",
    "    #removing node\n",
    "    def delete(self,key):\n",
    "        temp = self.head\n",
    "        if temp.data == key:\n",
    "            self.head = temp.next\n",
    "            temp = None\n",
    "            return\n",
    "        while temp is not None:\n",
    "            if temp.data == key:\n",
    "                break\n",
    "            prev = temp\n",
    "            temp = temp.next\n",
    "        if temp == None:\n",
    "            print(f\"{key} is not found\")\n",
    "            return\n",
    "        prev.next = temp.next\n",
    "        temp = None\n",
    "\n",
    "List = Linkedlist()\n",
    "#List.list_traversal()\n",
    "\n",
    "n1 = Node(\"Monday\")\n",
    "List.head = n1\n",
    "#List.list_traversal()\n",
    "\n",
    "n2 = Node(\"Tuesday\")\n",
    "n1.next = n2\n",
    "#List.list_traversal()\n",
    "\n",
    "#inserting node at beginning\n",
    "List.insert_beg(\"Sunday\")\n",
    "#List.list_traversal()\n",
    "\n",
    "#inserting node at end\n",
    "List.insert_end(\"Thursday\")\n",
    "#List.list_traversal()\n",
    "\n",
    "#inserting node in between\n",
    "List.insert_btw(\"Wednesday\",4)\n",
    "#List.list_traversal()\n",
    "\n",
    "#deleting Node\n",
    "List.delete(\"Wednesday\")\n",
    "#List.list_traversal()\n",
    "#deleting something not there\n",
    "List.delete(\"Saturday\")\n",
    "List.list_traversal()"
   ]
  },
  {
   "cell_type": "markdown",
   "id": "aceda3af",
   "metadata": {},
   "source": [
    "### Tree"
   ]
  },
  {
   "cell_type": "code",
   "execution_count": null,
   "id": "ba8b26c8",
   "metadata": {},
   "outputs": [],
   "source": []
  }
 ],
 "metadata": {
  "kernelspec": {
   "display_name": "Python 3 (ipykernel)",
   "language": "python",
   "name": "python3"
  },
  "language_info": {
   "codemirror_mode": {
    "name": "ipython",
    "version": 3
   },
   "file_extension": ".py",
   "mimetype": "text/x-python",
   "name": "python",
   "nbconvert_exporter": "python",
   "pygments_lexer": "ipython3",
   "version": "3.11.1"
  }
 },
 "nbformat": 4,
 "nbformat_minor": 5
}
