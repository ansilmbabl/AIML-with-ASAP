{
 "cells": [
  {
   "cell_type": "markdown",
   "id": "257aba0d",
   "metadata": {},
   "source": [
    "# 31 JAN 2023"
   ]
  },
  {
   "cell_type": "markdown",
   "id": "c77c52e5",
   "metadata": {},
   "source": [
    "## User defined data structures (Cont.)"
   ]
  },
  {
   "cell_type": "markdown",
   "id": "5c056753",
   "metadata": {},
   "source": [
    "### Tree"
   ]
  },
  {
   "cell_type": "code",
   "execution_count": 11,
   "id": "0dc56c7a",
   "metadata": {},
   "outputs": [
    {
     "name": "stdout",
     "output_type": "stream",
     "text": [
      "1\n",
      "2\n",
      "4\n",
      "5\n",
      "6\n",
      "20\n",
      "30\n"
     ]
    }
   ],
   "source": [
    "class Node:\n",
    "    def __init__(self,data):\n",
    "        self.data = data\n",
    "        self.left = None\n",
    "        self.right = None\n",
    "        \n",
    "    #inserting a node\n",
    "    def insert(self,data):\n",
    "        if self.data == None: #empty tree\n",
    "            self.data = data\n",
    "            return\n",
    "        if self.data == data: #no duplicate\n",
    "            return\n",
    "        if self.data > data:\n",
    "            if self.left: #is not None\n",
    "                self.left.insert(data)\n",
    "            else:\n",
    "                self.left = Node(data)\n",
    "        else:\n",
    "            if self.right:\n",
    "                self.right.insert(data)\n",
    "            else:\n",
    "                self.right = Node(data)\n",
    "                \n",
    "    def printTree(self):\n",
    "        if self.left:\n",
    "            self.left.printTree()\n",
    "        print(self.data)\n",
    "        if self.right:\n",
    "            self.right.printTree()\n",
    "        \n",
    "        \n",
    "root = Node(None)\n",
    "# root.insert(21)\n",
    "# root.insert(10)\n",
    "# root.insert(30)\n",
    "l= [20,4,30,4,2,1,5,6]\n",
    "for i in l:\n",
    "    root.insert(i)\n",
    "root.printTree()"
   ]
  }
 ],
 "metadata": {
  "kernelspec": {
   "display_name": "Python 3 (ipykernel)",
   "language": "python",
   "name": "python3"
  },
  "language_info": {
   "codemirror_mode": {
    "name": "ipython",
    "version": 3
   },
   "file_extension": ".py",
   "mimetype": "text/x-python",
   "name": "python",
   "nbconvert_exporter": "python",
   "pygments_lexer": "ipython3",
   "version": "3.11.1"
  }
 },
 "nbformat": 4,
 "nbformat_minor": 5
}
