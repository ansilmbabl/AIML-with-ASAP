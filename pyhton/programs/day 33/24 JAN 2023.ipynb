{
 "cells": [
  {
   "cell_type": "markdown",
   "id": "be7a4c3d",
   "metadata": {},
   "source": [
    "# 24 JAN 2023"
   ]
  },
  {
   "cell_type": "markdown",
   "id": "e474590f",
   "metadata": {},
   "source": [
    "### Regular Expressions with metacharctors"
   ]
  },
  {
   "cell_type": "code",
   "execution_count": 15,
   "id": "f3359dc8",
   "metadata": {},
   "outputs": [
    {
     "name": "stdout",
     "output_type": "stream",
     "text": [
      "<re.Match object; span=(0, 5), match='mmmmn'>\n"
     ]
    }
   ],
   "source": [
    "from re import *\n",
    "s=\"mmmmn\"\n",
    "x=search(\"m*n\",s) #starting with m and having 0  or more occurance of m\n",
    "print(x)"
   ]
  },
  {
   "cell_type": "code",
   "execution_count": 18,
   "id": "d0abe005",
   "metadata": {},
   "outputs": [
    {
     "name": "stdout",
     "output_type": "stream",
     "text": [
      "<re.Match object; span=(0, 9), match='man aaana'>\n"
     ]
    }
   ],
   "source": [
    "from re import *\n",
    "s=\"man aaan\"\n",
    "x=search(\".*\",s) #starting with m and having 0  or more occurance of m\n",
    "print(x)"
   ]
  },
  {
   "cell_type": "markdown",
   "id": "6e27607a",
   "metadata": {},
   "source": [
    "string starts with m and and ends with n"
   ]
  },
  {
   "cell_type": "code",
   "execution_count": 19,
   "id": "ce057f6c",
   "metadata": {},
   "outputs": [
    {
     "name": "stdout",
     "output_type": "stream",
     "text": [
      "<re.Match object; span=(0, 15), match='msjdfyhgdysihfn'>\n"
     ]
    }
   ],
   "source": [
    "s = \"msjdfyhgdysihfn\"\n",
    "x = search(\"^m.*n$\",s)\n",
    "print(x)"
   ]
  },
  {
   "cell_type": "code",
   "execution_count": 26,
   "id": "365d5681",
   "metadata": {},
   "outputs": [
    {
     "name": "stdout",
     "output_type": "stream",
     "text": [
      "<re.Match object; span=(0, 9), match='mjajsdfhn'>\n"
     ]
    }
   ],
   "source": [
    "s = \"mjajsdfhn\"\n",
    "x = search(\"^m[a-z]*n$\",s)\n",
    "print(x)"
   ]
  },
  {
   "cell_type": "code",
   "execution_count": 27,
   "id": "0b0973b3",
   "metadata": {},
   "outputs": [
    {
     "name": "stdout",
     "output_type": "stream",
     "text": [
      "['mjajsdfhn']\n"
     ]
    }
   ],
   "source": [
    "x = findall(\"^m[a-z]*n$\",s)\n",
    "print(x)"
   ]
  },
  {
   "cell_type": "code",
   "execution_count": 30,
   "id": "0f4d0b31",
   "metadata": {},
   "outputs": [
    {
     "name": "stdout",
     "output_type": "stream",
     "text": [
      "['t']\n"
     ]
    }
   ],
   "source": [
    "s = \"table tabla tale stable staple\"\n",
    "\n",
    "x = findall(\"^t\",s)\n",
    "print(x)"
   ]
  },
  {
   "cell_type": "code",
   "execution_count": 41,
   "id": "d5c32d5c",
   "metadata": {},
   "outputs": [
    {
     "name": "stdout",
     "output_type": "stream",
     "text": [
      "['table', 'tabla', 'tale', 'stable', 'staple']\n",
      "[['table'], [], ['tale'], [], []]\n"
     ]
    }
   ],
   "source": [
    "s = \"table tabla tale stable staple\"\n",
    "\n",
    "l = split(\" \",s)\n",
    "print(l)\n",
    "\n",
    "y  = list(map(lambda x: findall(\"^t.+e$\",x),l))\n",
    "print(y)"
   ]
  },
  {
   "cell_type": "markdown",
   "id": "2af97e4c",
   "metadata": {},
   "source": [
    "start with anything but it should end with e"
   ]
  },
  {
   "cell_type": "code",
   "execution_count": 50,
   "id": "e2d8a757",
   "metadata": {},
   "outputs": [
    {
     "name": "stdout",
     "output_type": "stream",
     "text": [
      "['table', 'tabla', 'tale', 'stable', 'staple', 'te']\n",
      "[['table'], [], ['tale'], [], [], []]\n"
     ]
    }
   ],
   "source": [
    "s = \"table tabla tale stable staple te\"\n",
    "\n",
    "l = split(\" \",s)\n",
    "print(l)\n",
    "\n",
    "y = list(map(lambda x: findall(\"^t.+e$\",x),l))\n",
    "print(y)"
   ]
  },
  {
   "cell_type": "markdown",
   "id": "7b501654",
   "metadata": {},
   "source": [
    "+and * "
   ]
  },
  {
   "cell_type": "code",
   "execution_count": 52,
   "id": "a3d0278a",
   "metadata": {},
   "outputs": [
    {
     "name": "stdout",
     "output_type": "stream",
     "text": [
      "[]\n",
      "['mn']\n"
     ]
    }
   ],
   "source": [
    "s = \"mn\"\n",
    "x = findall(\"ma+n\",s)\n",
    "print(x)\n",
    "y = findall(\"ma*n\",s)\n",
    "print(y)"
   ]
  },
  {
   "cell_type": "markdown",
   "id": "aa72772c",
   "metadata": {},
   "source": [
    "chck a string starts and ends with l"
   ]
  },
  {
   "cell_type": "code",
   "execution_count": 69,
   "id": "f5664781",
   "metadata": {},
   "outputs": [
    {
     "name": "stdout",
     "output_type": "stream",
     "text": [
      "['lev12el']\n"
     ]
    }
   ],
   "source": [
    "s = \"lev12el\"\n",
    "x = findall(\"^l[1-z].*l$\",s)\n",
    "print(x)"
   ]
  },
  {
   "cell_type": "markdown",
   "id": "66e4a811",
   "metadata": {},
   "source": [
    "#### parenthesis {}"
   ]
  },
  {
   "cell_type": "code",
   "execution_count": 59,
   "id": "93372ec3",
   "metadata": {},
   "outputs": [
    {
     "name": "stdout",
     "output_type": "stream",
     "text": [
      "['maan']\n"
     ]
    }
   ],
   "source": [
    "s = \"maan\"\n",
    "x= findall(\"ma{2}n\",s) # a should happen exactly 2 times\n",
    "print(x)"
   ]
  },
  {
   "cell_type": "markdown",
   "id": "5cab8bf3",
   "metadata": {},
   "source": [
    "find words where a is occuring atleast exactly two time between m and n"
   ]
  },
  {
   "cell_type": "code",
   "execution_count": 71,
   "id": "a06764bd",
   "metadata": {},
   "outputs": [
    {
     "name": "stdout",
     "output_type": "stream",
     "text": [
      "['mn', 'man', 'maan', 'maaan', 'maan', 'man', 'mn']\n",
      "[[], [], ['maan'], [], ['maan'], [], []]\n"
     ]
    }
   ],
   "source": [
    "s = 'mn man maan maaan maan man mn'\n",
    "l = split(\" \",s)\n",
    "print(l)\n",
    "x = list(map(lambda x: findall(\"ma{2}n\",x),l))\n",
    "print(x)"
   ]
  },
  {
   "cell_type": "markdown",
   "id": "49bdd4e4",
   "metadata": {},
   "source": [
    "find words with atleast 2 a in between m and n"
   ]
  },
  {
   "cell_type": "code",
   "execution_count": 96,
   "id": "26590d09",
   "metadata": {},
   "outputs": [
    {
     "name": "stdout",
     "output_type": "stream",
     "text": [
      "['mn', 'man', 'maan', 'maaan', 'maan', 'man', 'mn']\n",
      "[[], [], ['maan'], ['maaan'], ['maan'], [], []]\n"
     ]
    }
   ],
   "source": [
    "s = 'mn man maan maaan maan man mn'\n",
    "l = split(\" \",s)\n",
    "print(l)\n",
    "x = list(map(lambda x: findall(\"ma{2}a*n\",x),l))\n",
    "print(x)"
   ]
  },
  {
   "cell_type": "markdown",
   "id": "0bd0ab77",
   "metadata": {},
   "source": [
    "find words which has atleast 4 letters"
   ]
  },
  {
   "cell_type": "code",
   "execution_count": 94,
   "id": "88f62221",
   "metadata": {},
   "outputs": [
    {
     "name": "stdout",
     "output_type": "stream",
     "text": [
      "['mn', 'man', 'maan', 'maaan', 'maan', 'man', 'mn']\n",
      "using {}:  [[], [], ['maan'], ['maaan'], ['maan'], [], []]\n",
      "using . : [[], [], ['maan'], ['maaan'], ['maan'], [], []]\n"
     ]
    }
   ],
   "source": [
    "s = 'mn man maan maaan maan man mn'\n",
    "l = split(\" \",s)\n",
    "print(l)\n",
    "x = list(map(lambda x: findall(\".{4}.*\",x),l))\n",
    "y = list(map(lambda x: findall(\".....*\",x),l))\n",
    "print(\"using {}: \",x)\n",
    "print(\"using . :\",y)"
   ]
  },
  {
   "cell_type": "markdown",
   "id": "99b1aaaa",
   "metadata": {},
   "source": [
    "#### or |"
   ]
  },
  {
   "cell_type": "code",
   "execution_count": 100,
   "id": "77fc90e0",
   "metadata": {},
   "outputs": [
    {
     "name": "stdout",
     "output_type": "stream",
     "text": [
      "['able', 'ale', 'sta', 'sta']\n"
     ]
    }
   ],
   "source": [
    "s = \"table tabla tale stable staple te\"\n",
    "x = findall(\"able|ale|sta\",s)\n",
    "print(x)"
   ]
  },
  {
   "cell_type": "markdown",
   "id": "0b19e3d4",
   "metadata": {},
   "source": [
    "write a regular expression to check pincode\n",
    "1. 6 digits\n",
    "2. should not start with zero\n",
    "3. first digit between 1 to 9\n",
    "4. next 5 digits should be from 0 to 9\n",
    "5. it should allow only one white space\n",
    "6. the space should appear only after first three digits(optional)"
   ]
  },
  {
   "cell_type": "code",
   "execution_count": 133,
   "id": "74d54673",
   "metadata": {},
   "outputs": [
    {
     "name": "stdout",
     "output_type": "stream",
     "text": [
      "['123 436']\n"
     ]
    }
   ],
   "source": [
    "s=\"123 436\"\n",
    "\n",
    "x = findall(\"^[1-9][0-9]{2}[ -]{0,1}[0-9]{3}$\",s)\n",
    "print(x)"
   ]
  },
  {
   "cell_type": "markdown",
   "id": "10855572",
   "metadata": {},
   "source": [
    "to check for 2 precesion decimal point"
   ]
  },
  {
   "cell_type": "code",
   "execution_count": 144,
   "id": "795f04a2",
   "metadata": {},
   "outputs": [
    {
     "name": "stdout",
     "output_type": "stream",
     "text": [
      "['165451364561.00']\n"
     ]
    }
   ],
   "source": [
    "n = \"165451364561.00\"\n",
    "\n",
    "x = findall(\".*\\...$\",n)\n",
    "print(x)"
   ]
  }
 ],
 "metadata": {
  "kernelspec": {
   "display_name": "Python 3 (ipykernel)",
   "language": "python",
   "name": "python3"
  },
  "language_info": {
   "codemirror_mode": {
    "name": "ipython",
    "version": 3
   },
   "file_extension": ".py",
   "mimetype": "text/x-python",
   "name": "python",
   "nbconvert_exporter": "python",
   "pygments_lexer": "ipython3",
   "version": "3.11.1"
  }
 },
 "nbformat": 4,
 "nbformat_minor": 5
}
