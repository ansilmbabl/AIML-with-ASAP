{
 "cells": [
  {
   "cell_type": "markdown",
   "id": "99304b56",
   "metadata": {},
   "source": [
    "# 25 JAN 2023"
   ]
  },
  {
   "cell_type": "markdown",
   "id": "53ea1752",
   "metadata": {},
   "source": [
    "## Regular Expresiions\n",
    "### Python Special sequence "
   ]
  },
  {
   "cell_type": "markdown",
   "id": "65a5f921",
   "metadata": {},
   "source": [
    "\\A match charactors at beginning of string"
   ]
  },
  {
   "cell_type": "code",
   "execution_count": 3,
   "id": "24d6fc3a",
   "metadata": {},
   "outputs": [
    {
     "name": "stdout",
     "output_type": "stream",
     "text": [
      "['ta']\n",
      "[]\n"
     ]
    }
   ],
   "source": [
    "from re import*\n",
    "\n",
    "s = \"table tabla tale stable staple te\"\n",
    "\n",
    "x = findall(\"\\Ata\",s) #match charactors at beginning of string\n",
    "print(x)\n",
    "y = findall(\"\\Asa\",s)\n",
    "print(y)"
   ]
  },
  {
   "cell_type": "markdown",
   "id": "0ba633ff",
   "metadata": {},
   "source": [
    "\\b match charctor at beginning of word and end of word\n"
   ]
  },
  {
   "cell_type": "code",
   "execution_count": 5,
   "id": "9271a16a",
   "metadata": {},
   "outputs": [
    {
     "name": "stdout",
     "output_type": "stream",
     "text": [
      "['ta', 'ta', 'ta']\n"
     ]
    }
   ],
   "source": [
    "x = findall(r\"\\bta\",s) # r means its a raw string\n",
    "print(x)"
   ]
  },
  {
   "cell_type": "code",
   "execution_count": 6,
   "id": "4d3282fc",
   "metadata": {},
   "outputs": [
    {
     "name": "stdout",
     "output_type": "stream",
     "text": [
      "['le', 'le', 'le', 'le']\n"
     ]
    }
   ],
   "source": [
    "x = findall(r\"le\\b\",s)\n",
    "print(x)"
   ]
  },
  {
   "cell_type": "code",
   "execution_count": 8,
   "id": "7fe71e43",
   "metadata": {},
   "outputs": [
    {
     "name": "stdout",
     "output_type": "stream",
     "text": [
      "['le', 'le', 'le', 'le']\n"
     ]
    }
   ],
   "source": [
    "s = \"table tabla tale-stable staple te\"\n",
    "\n",
    "x = findall(r\"le\\b\",s)\n",
    "print(x)"
   ]
  },
  {
   "cell_type": "code",
   "execution_count": 9,
   "id": "6da68010",
   "metadata": {},
   "outputs": [
    {
     "name": "stdout",
     "output_type": "stream",
     "text": [
      "['le', 'le', 'le']\n"
     ]
    }
   ],
   "source": [
    "s = \"table tabla tale_stable staple te\"\n",
    "\n",
    "x = findall(r\"le\\b\",s)\n",
    "print(x)"
   ]
  },
  {
   "cell_type": "code",
   "execution_count": 14,
   "id": "45badd28",
   "metadata": {},
   "outputs": [
    {
     "name": "stdout",
     "output_type": "stream",
     "text": [
      "['le', 'le', 'le', 'le']\n"
     ]
    }
   ],
   "source": [
    "s = \"table tabla tale*stable staple te\"\n",
    "\n",
    "x = findall(r\"le\\b\",s)\n",
    "print(x)"
   ]
  },
  {
   "cell_type": "code",
   "execution_count": 25,
   "id": "2fdcaaec",
   "metadata": {},
   "outputs": [
    {
     "name": "stdout",
     "output_type": "stream",
     "text": [
      "['table*']\n"
     ]
    }
   ],
   "source": [
    "s = \"table*tabla stable tale*\"\n",
    "\n",
    "x = findall(r\"[a-z]*le\\*\\b\",s)\n",
    "print(x)"
   ]
  },
  {
   "cell_type": "code",
   "execution_count": 29,
   "id": "cdceae02",
   "metadata": {},
   "outputs": [
    {
     "name": "stdout",
     "output_type": "stream",
     "text": [
      "['ca', 'ca', 'ca']\n"
     ]
    }
   ],
   "source": [
    "s = \"bcatmania thiscat thiscatmania\"\n",
    "\n",
    "x=findall(r\"\\Bca\",s) # word not beginning with ca\n",
    "print(x)"
   ]
  },
  {
   "cell_type": "code",
   "execution_count": 30,
   "id": "1cedb5a6",
   "metadata": {
    "scrolled": true
   },
   "outputs": [
    {
     "name": "stdout",
     "output_type": "stream",
     "text": [
      "['cat', 'cat']\n"
     ]
    }
   ],
   "source": [
    "x = findall(r\"cat\\B\",s)\n",
    "print(x)"
   ]
  },
  {
   "cell_type": "code",
   "execution_count": 32,
   "id": "d73349ec",
   "metadata": {},
   "outputs": [
    {
     "name": "stdout",
     "output_type": "stream",
     "text": [
      "['8', '4', '6', '5', '4']\n"
     ]
    }
   ],
   "source": [
    "s = \"bcatma84nia thiscat thiscatm654ania\"\n",
    "\n",
    "x = findall(r\"\\d\",s)\n",
    "print(x)"
   ]
  },
  {
   "cell_type": "code",
   "execution_count": 39,
   "id": "c2251308",
   "metadata": {},
   "outputs": [
    {
     "name": "stdout",
     "output_type": "stream",
     "text": [
      "['b', 'c', 'a', 't', 'm', 'a', 'n', 'i', 'a', ' ', 't', 'h', 'i', 's', 'c', 'a', 't', ' ', 't', 'h', 'i', 's', 'c', 'a', 't', 'm', 'a', 'n', 'i', 'a']\n"
     ]
    }
   ],
   "source": [
    "x = findall(r\"\\D\",s)\n",
    "print(x)"
   ]
  },
  {
   "cell_type": "code",
   "execution_count": 45,
   "id": "b3d24cff",
   "metadata": {
    "scrolled": true
   },
   "outputs": [
    {
     "name": "stdout",
     "output_type": "stream",
     "text": [
      "['b', 'c', 'a', 't', 'm', 'a', '_', 'n', 'i', 'a', 't', 'h', 'i', '3', '2', '5', '1', 's', 'c', 'a', 't', 't', 'h', 'i', 's', 'c', 'a', 't', 'm', 'a', 'n', 'i', 'a']\n"
     ]
    }
   ],
   "source": [
    "s = \"bcatma_nia thi3251s!@#$%cat thisca-tmania\"\n",
    "\n",
    "x = findall(\"\\w\",s)\n",
    "print(x)"
   ]
  },
  {
   "cell_type": "markdown",
   "id": "12ff4019",
   "metadata": {},
   "source": [
    "Regular Expressioin to match all words in a string that contain digits"
   ]
  },
  {
   "cell_type": "code",
   "execution_count": 70,
   "id": "4d1611cc",
   "metadata": {},
   "outputs": [
    {
     "name": "stdout",
     "output_type": "stream",
     "text": [
      "['---bca4tma_nia thi3scat thi54sca-tmania', '']\n",
      "['bca4tma_nia', 'thi3scat', 'thi54sca']\n"
     ]
    }
   ],
   "source": [
    "s = \"bca4tma_nia thi3scat thi54sca-tmania\"\n",
    "\n",
    "x = findall(r\".*\\d*.*\",s)\n",
    "print(x)\n",
    "\n",
    "y = findall(r\"\\w+\\d\\w*\",s)\n",
    "print(y)"
   ]
  },
  {
   "cell_type": "code",
   "execution_count": 96,
   "id": "4eed6730",
   "metadata": {},
   "outputs": [
    {
     "name": "stdout",
     "output_type": "stream",
     "text": [
      "['', '', 'tale', '', '', '', '', '', '', '']\n"
     ]
    }
   ],
   "source": [
    "# match all words in a string that \n",
    "# should not start or end with a number\n",
    "\n",
    "s = \"table1 tale 1stable 2able1 ab12le\"\n",
    "\n",
    "x = findall(r\"\\b[A-z]*\\b\",s)\n",
    "print(x)"
   ]
  },
  {
   "cell_type": "code",
   "execution_count": 99,
   "id": "375e11f9",
   "metadata": {},
   "outputs": [
    {
     "name": "stdout",
     "output_type": "stream",
     "text": [
      "['a', 'b', 'x']\n",
      "<re.Match object; span=(0, 1), match='a'>\n"
     ]
    }
   ],
   "source": [
    "pattern = compile(\"[A-Za-z]\")\n",
    "print(pattern.findall(\"abx123\"))\n",
    "print(pattern.search(\"abx123\"))"
   ]
  },
  {
   "cell_type": "code",
   "execution_count": null,
   "id": "434be86f",
   "metadata": {},
   "outputs": [],
   "source": [
    "#WAP to check a string starts with alphabets or not\n",
    "\n",
    "def check(s):\n",
    "    p = compile(\"^[a-zA-Z]\")\n",
    "    c = p.search(s)\n",
    "    return c\n",
    "if check(s)"
   ]
  },
  {
   "cell_type": "markdown",
   "id": "252cef7d",
   "metadata": {},
   "source": [
    "write a programe to seacrh for specific string in a sentence\n",
    "search for \"and\",\"if\",\"then\"\n"
   ]
  },
  {
   "cell_type": "code",
   "execution_count": 98,
   "id": "ae768230",
   "metadata": {},
   "outputs": [
    {
     "name": "stdout",
     "output_type": "stream",
     "text": [
      "and found at (15, 18)\n",
      "if found at (26, 28)\n",
      "then found at (43, 47)\n",
      "not found\n"
     ]
    }
   ],
   "source": [
    "pattern = [\"and\",\"if\",\"then\",\"for\"]\n",
    "s=\"python is easy and simple if we work hard, then success will come.\"\n",
    "\n",
    "for p in pattern:\n",
    "    if search(p,s):\n",
    "        print(f\"{p} found at {search(p,s).span()}\")\n",
    "    else:\n",
    "        print(\"not found\")"
   ]
  }
 ],
 "metadata": {
  "kernelspec": {
   "display_name": "Python 3 (ipykernel)",
   "language": "python",
   "name": "python3"
  },
  "language_info": {
   "codemirror_mode": {
    "name": "ipython",
    "version": 3
   },
   "file_extension": ".py",
   "mimetype": "text/x-python",
   "name": "python",
   "nbconvert_exporter": "python",
   "pygments_lexer": "ipython3",
   "version": "3.11.1"
  }
 },
 "nbformat": 4,
 "nbformat_minor": 5
}
