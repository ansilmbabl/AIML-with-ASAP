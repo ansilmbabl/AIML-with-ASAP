{
 "cells": [
  {
   "cell_type": "markdown",
   "id": "289aff0b",
   "metadata": {},
   "source": [
    "# Scipy Cont.\n",
    "## Linear Algebra functions in SciPy\n",
    "solving linear equaions\n",
    "\n",
    "$7x + 2y = 8$<br>\n",
    "$4x + 5y = 10$"
   ]
  },
  {
   "cell_type": "code",
   "execution_count": 1,
   "id": "c0df59f6",
   "metadata": {},
   "outputs": [],
   "source": [
    "import numpy as np\n",
    "from scipy import linalg"
   ]
  },
  {
   "cell_type": "code",
   "execution_count": 2,
   "id": "e1a58a82",
   "metadata": {},
   "outputs": [],
   "source": [
    "a = np.array([[7,2],[4,5]]) # \n",
    "b = np.array([8,10]) # constants"
   ]
  },
  {
   "cell_type": "code",
   "execution_count": 4,
   "id": "a3e66c46",
   "metadata": {},
   "outputs": [
    {
     "name": "stdout",
     "output_type": "stream",
     "text": [
      "[0.74074074 1.40740741]\n"
     ]
    }
   ],
   "source": [
    "print(linalg.solve(a,b)) # solving for x,y"
   ]
  },
  {
   "cell_type": "markdown",
   "id": "06036b69",
   "metadata": {},
   "source": [
    "inverse of a matrix "
   ]
  },
  {
   "cell_type": "code",
   "execution_count": 5,
   "id": "23332c54",
   "metadata": {},
   "outputs": [
    {
     "data": {
      "text/plain": [
       "array([[7, 2],\n",
       "       [4, 5]])"
      ]
     },
     "execution_count": 5,
     "metadata": {},
     "output_type": "execute_result"
    }
   ],
   "source": [
    "a"
   ]
  },
  {
   "cell_type": "code",
   "execution_count": 6,
   "id": "d57796a1",
   "metadata": {},
   "outputs": [
    {
     "data": {
      "text/plain": [
       "array([ 8, 10])"
      ]
     },
     "execution_count": 6,
     "metadata": {},
     "output_type": "execute_result"
    }
   ],
   "source": [
    "b"
   ]
  },
  {
   "cell_type": "code",
   "execution_count": 7,
   "id": "769a49c9",
   "metadata": {},
   "outputs": [
    {
     "data": {
      "text/plain": [
       "array([[ 0.18518519, -0.07407407],\n",
       "       [-0.14814815,  0.25925926]])"
      ]
     },
     "execution_count": 7,
     "metadata": {},
     "output_type": "execute_result"
    }
   ],
   "source": [
    "linalg.inv(a)"
   ]
  },
  {
   "cell_type": "markdown",
   "id": "75bfe274",
   "metadata": {},
   "source": [
    "determinant "
   ]
  },
  {
   "cell_type": "code",
   "execution_count": 8,
   "id": "68fb5946",
   "metadata": {},
   "outputs": [
    {
     "data": {
      "text/plain": [
       "27.0"
      ]
     },
     "execution_count": 8,
     "metadata": {},
     "output_type": "execute_result"
    }
   ],
   "source": [
    "linalg.det(a)"
   ]
  },
  {
   "cell_type": "markdown",
   "id": "4b2b50b1",
   "metadata": {},
   "source": [
    "#### eigen values and eigen vectors"
   ]
  },
  {
   "cell_type": "code",
   "execution_count": 12,
   "id": "352acb83",
   "metadata": {},
   "outputs": [
    {
     "data": {
      "text/plain": [
       "array([10.+0.j,  3.+0.j])"
      ]
     },
     "execution_count": 12,
     "metadata": {},
     "output_type": "execute_result"
    }
   ],
   "source": [
    "# let M be a 2D matrix\n",
    "M = np.array([[9,3],[2,4]])\n",
    "val = linalg.eigvals(M) # eigen values\n",
    "val"
   ]
  },
  {
   "cell_type": "code",
   "execution_count": 14,
   "id": "eda2c66c",
   "metadata": {},
   "outputs": [
    {
     "name": "stdout",
     "output_type": "stream",
     "text": [
      "[10.+0.j  3.+0.j]\n",
      "\n",
      "[[ 0.9486833  -0.4472136 ]\n",
      " [ 0.31622777  0.89442719]]\n"
     ]
    }
   ],
   "source": [
    "val, vec = linalg.eig(M) # eigen values and eigen vectors\n",
    "print(val,vec, sep='\\n\\n')"
   ]
  },
  {
   "cell_type": "markdown",
   "id": "e2de4a3e",
   "metadata": {},
   "source": [
    "#### singular value decomposition"
   ]
  },
  {
   "cell_type": "code",
   "execution_count": 25,
   "id": "b59a4b88",
   "metadata": {},
   "outputs": [
    {
     "data": {
      "text/plain": [
       "(array([[-1.00000000e+00, -9.77496868e-18],\n",
       "        [-9.77496868e-18,  1.00000000e+00]]),\n",
       " array([11.35781669,  5.74456265]),\n",
       " array([[ 0.35218036,  0.61631563, -0.70436073],\n",
       "        [ 0.17407766,  0.69631062,  0.69631062],\n",
       "        [ 0.91960098, -0.36784039,  0.13794015]]))"
      ]
     },
     "execution_count": 25,
     "metadata": {},
     "output_type": "execute_result"
    }
   ],
   "source": [
    "B = np.array([[-4,-7,8],[1,4,4]])\n",
    "linalg.svd(B)"
   ]
  },
  {
   "cell_type": "code",
   "execution_count": 62,
   "id": "d1fb7e4e",
   "metadata": {},
   "outputs": [
    {
     "data": {
      "text/plain": [
       "array([[-4, -7],\n",
       "       [ 1,  4]])"
      ]
     },
     "execution_count": 62,
     "metadata": {},
     "output_type": "execute_result"
    }
   ],
   "source": [
    "A = np.array([[-4,-7],[1,4]])\n",
    "A"
   ]
  },
  {
   "cell_type": "code",
   "execution_count": 63,
   "id": "4a0adba5",
   "metadata": {},
   "outputs": [
    {
     "data": {
      "text/plain": [
       "array([[-4,  1],\n",
       "       [-7,  4]])"
      ]
     },
     "execution_count": 63,
     "metadata": {},
     "output_type": "execute_result"
    }
   ],
   "source": [
    "A.transpose()"
   ]
  },
  {
   "cell_type": "code",
   "execution_count": 64,
   "id": "27e2a821",
   "metadata": {},
   "outputs": [
    {
     "data": {
      "text/plain": [
       "(array([[-0.89442719,  0.4472136 ],\n",
       "        [ 0.4472136 ,  0.89442719]]),\n",
       " array([9., 1.]),\n",
       " array([[ 0.4472136 ,  0.89442719],\n",
       "        [-0.89442719,  0.4472136 ]]))"
      ]
     },
     "execution_count": 64,
     "metadata": {},
     "output_type": "execute_result"
    }
   ],
   "source": [
    "linalg.svd(A) # return U, D, Vt"
   ]
  },
  {
   "cell_type": "code",
   "execution_count": 65,
   "id": "7bf596b6",
   "metadata": {},
   "outputs": [
    {
     "data": {
      "text/plain": [
       "(array([[-0.89442719,  0.4472136 ],\n",
       "        [ 0.4472136 ,  0.89442719]]),\n",
       " array([9., 1.]),\n",
       " array([[ 0.4472136 ,  0.89442719],\n",
       "        [-0.89442719,  0.4472136 ]]))"
      ]
     },
     "execution_count": 65,
     "metadata": {},
     "output_type": "execute_result"
    }
   ],
   "source": [
    "np.linalg.svd(A)"
   ]
  },
  {
   "cell_type": "markdown",
   "id": "728fe378",
   "metadata": {},
   "source": [
    "lets find it manually "
   ]
  },
  {
   "cell_type": "code",
   "execution_count": 68,
   "id": "7bd04a7f",
   "metadata": {},
   "outputs": [
    {
     "data": {
      "text/plain": [
       "array([[ 65, -32],\n",
       "       [-32,  17]])"
      ]
     },
     "execution_count": 68,
     "metadata": {},
     "output_type": "execute_result"
    }
   ],
   "source": [
    "AAT = np.dot(A,A.transpose()) #U\n",
    "AAT"
   ]
  },
  {
   "cell_type": "code",
   "execution_count": 73,
   "id": "7aff727d",
   "metadata": {},
   "outputs": [
    {
     "data": {
      "text/plain": [
       "array([[ 0.89442719,  0.4472136 ],\n",
       "       [-0.4472136 ,  0.89442719]])"
      ]
     },
     "execution_count": 73,
     "metadata": {},
     "output_type": "execute_result"
    }
   ],
   "source": [
    "x,y = linalg.eig(AAT)\n",
    "y"
   ]
  },
  {
   "cell_type": "code",
   "execution_count": 79,
   "id": "15603a55",
   "metadata": {},
   "outputs": [
    {
     "data": {
      "text/plain": [
       "array([[17, 32],\n",
       "       [32, 65]])"
      ]
     },
     "execution_count": 79,
     "metadata": {},
     "output_type": "execute_result"
    }
   ],
   "source": [
    "ATA = A.transpose()@A\n",
    "ATA"
   ]
  },
  {
   "cell_type": "code",
   "execution_count": 80,
   "id": "04417086",
   "metadata": {},
   "outputs": [
    {
     "data": {
      "text/plain": [
       "array([ 1.+0.j, 81.+0.j])"
      ]
     },
     "execution_count": 80,
     "metadata": {},
     "output_type": "execute_result"
    }
   ],
   "source": [
    "linalg.eigvals(ATA) # D will be square root of this"
   ]
  },
  {
   "cell_type": "code",
   "execution_count": 81,
   "id": "edaa04c5",
   "metadata": {},
   "outputs": [
    {
     "data": {
      "text/plain": [
       "array([[-0.89442719, -0.4472136 ],\n",
       "       [ 0.4472136 , -0.89442719]])"
      ]
     },
     "execution_count": 81,
     "metadata": {},
     "output_type": "execute_result"
    }
   ],
   "source": [
    "x,y = linalg.eig(ATA)\n",
    "y"
   ]
  },
  {
   "cell_type": "code",
   "execution_count": 82,
   "id": "a98d828c",
   "metadata": {},
   "outputs": [
    {
     "data": {
      "text/plain": [
       "array([[-0.89442719,  0.4472136 ],\n",
       "       [-0.4472136 , -0.89442719]])"
      ]
     },
     "execution_count": 82,
     "metadata": {},
     "output_type": "execute_result"
    }
   ],
   "source": [
    "y.transpose() #VT"
   ]
  },
  {
   "cell_type": "code",
   "execution_count": 83,
   "id": "698d5a72",
   "metadata": {},
   "outputs": [
    {
     "data": {
      "text/plain": [
       "array([[ 4,  0],\n",
       "       [ 3, -5]])"
      ]
     },
     "execution_count": 83,
     "metadata": {},
     "output_type": "execute_result"
    }
   ],
   "source": [
    "C = np.array([[4,0],[3,-5]])\n",
    "C"
   ]
  },
  {
   "cell_type": "code",
   "execution_count": 84,
   "id": "f5fbe774",
   "metadata": {},
   "outputs": [
    {
     "ename": "TypeError",
     "evalue": "dot() missing 2 required positional arguments: 'a' and 'b'",
     "output_type": "error",
     "traceback": [
      "\u001b[1;31m---------------------------------------------------------------------------\u001b[0m",
      "\u001b[1;31mTypeError\u001b[0m                                 Traceback (most recent call last)",
      "Cell \u001b[1;32mIn[84], line 2\u001b[0m\n\u001b[0;32m      1\u001b[0m \u001b[38;5;66;03m#U\u001b[39;00m\n\u001b[1;32m----> 2\u001b[0m ATA \u001b[38;5;241m=\u001b[39m \u001b[43mnp\u001b[49m\u001b[38;5;241;43m.\u001b[39;49m\u001b[43mdot\u001b[49m\u001b[43m(\u001b[49m\u001b[43m)\u001b[49m\n",
      "File \u001b[1;32m<__array_function__ internals>:198\u001b[0m, in \u001b[0;36mdot\u001b[1;34m(*args, **kwargs)\u001b[0m\n",
      "\u001b[1;31mTypeError\u001b[0m: dot() missing 2 required positional arguments: 'a' and 'b'"
     ]
    }
   ],
   "source": [
    "#U\n",
    "ATA = np.dot()"
   ]
  },
  {
   "cell_type": "markdown",
   "id": "8a563f56",
   "metadata": {},
   "source": [
    "rank of matrix (number of non zero eigen values)"
   ]
  },
  {
   "cell_type": "code",
   "execution_count": 44,
   "id": "3d98044c",
   "metadata": {},
   "outputs": [
    {
     "data": {
      "text/plain": [
       "array([[-4, -7],\n",
       "       [ 1,  4]])"
      ]
     },
     "execution_count": 44,
     "metadata": {},
     "output_type": "execute_result"
    }
   ],
   "source": [
    "A"
   ]
  },
  {
   "cell_type": "code",
   "execution_count": 49,
   "id": "a5eebe3d",
   "metadata": {},
   "outputs": [
    {
     "data": {
      "text/plain": [
       "2"
      ]
     },
     "execution_count": 49,
     "metadata": {},
     "output_type": "execute_result"
    }
   ],
   "source": [
    "from numpy.linalg import matrix_rank\n",
    "matrix_rank(A)"
   ]
  },
  {
   "cell_type": "markdown",
   "id": "044832f5",
   "metadata": {},
   "source": [
    "norm of a matrix"
   ]
  },
  {
   "cell_type": "code",
   "execution_count": 85,
   "id": "5120ca11",
   "metadata": {},
   "outputs": [
    {
     "name": "stdout",
     "output_type": "stream",
     "text": [
      "Is u unary? True\n",
      "Is vh unary? True\n",
      "original matrix A\n",
      "[[2 2]\n",
      " [1 1]]\n",
      "Reconstructed matrix A\n",
      "[[2. 2.]\n",
      " [1. 1.]]\n",
      "All tests passed\n"
     ]
    }
   ],
   "source": [
    "A = np.array([[2, 2],\n",
    "              [1, 1]])\n",
    "u, s, vh = np.linalg.svd(A, full_matrices=False)\n",
    "\n",
    "smat = np.diag(s)\n",
    "\n",
    "def is_unary(A):\n",
    "    return np.allclose(A @ A.T, np.eye(A.shape[0]))\n",
    "\n",
    "print(f\"Is u unary? {is_unary(u)}\")\n",
    "print(f\"Is vh unary? {is_unary(vh)}\")\n",
    "print(f\"original matrix A\")\n",
    "print(A)\n",
    "print(\"Reconstructed matrix A\")\n",
    "print(u @ smat @ vh)\n",
    "\n",
    "def check_svd(A, u, s, vh):\n",
    "    smat = np.diag(s)\n",
    "    c1 = is_unary(u)\n",
    "    c2 = is_unary(vh)\n",
    "    c3 = np.allclose(A, u @ smat @ vh)\n",
    "    success = c1 and c2 and c3\n",
    "    if not success:\n",
    "        raise Exception(\"numpy SVD failed\")\n",
    "\n",
    "for i in range(100):\n",
    "    A = np.random.rand(100, 100)\n",
    "    u, s, vh = np.linalg.svd(A, full_matrices=False)\n",
    "    check_svd(A, u, s, vh)\n",
    "\n",
    "print(\"All tests passed\")"
   ]
  },
  {
   "cell_type": "code",
   "execution_count": null,
   "id": "9b0a7ce3",
   "metadata": {},
   "outputs": [],
   "source": []
  }
 ],
 "metadata": {
  "kernelspec": {
   "display_name": "Python 3 (ipykernel)",
   "language": "python",
   "name": "python3"
  },
  "language_info": {
   "codemirror_mode": {
    "name": "ipython",
    "version": 3
   },
   "file_extension": ".py",
   "mimetype": "text/x-python",
   "name": "python",
   "nbconvert_exporter": "python",
   "pygments_lexer": "ipython3",
   "version": "3.11.1"
  }
 },
 "nbformat": 4,
 "nbformat_minor": 5
}
