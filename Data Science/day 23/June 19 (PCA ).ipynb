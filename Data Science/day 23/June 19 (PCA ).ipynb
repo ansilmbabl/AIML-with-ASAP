{
 "cells": [
  {
   "cell_type": "markdown",
   "id": "773c242a",
   "metadata": {},
   "source": [
    "# principle component analysis"
   ]
  },
  {
   "cell_type": "code",
   "execution_count": null,
   "id": "120fe062",
   "metadata": {},
   "outputs": [],
   "source": [
    "import pandas as pd\n",
    "import numpy as np"
   ]
  },
  {
   "cell_type": "markdown",
   "id": "3ee10a4b",
   "metadata": {},
   "source": [
    "### Steps\n",
    "1. standardization \n",
    "2. calculation of covariance matrix\n",
    "3. calculate eigen values and eigen vectors \n",
    "4. create a feature vector to decide the principal components\n",
    "5. Recast the data along the principal component axis\n",
    "\n",
    "### 1 standardization"
   ]
  },
  {
   "cell_type": "code",
   "execution_count": null,
   "id": "0d271614",
   "metadata": {},
   "outputs": [],
   "source": [
    "from sklearn.datasets import load_breast_cancer"
   ]
  },
  {
   "cell_type": "code",
   "execution_count": null,
   "id": "8ba27845",
   "metadata": {},
   "outputs": [],
   "source": [
    "cancer = load_breast_cancer (as_frame=True) # to load it as a dataframe"
   ]
  },
  {
   "cell_type": "code",
   "execution_count": null,
   "id": "abb0303d",
   "metadata": {},
   "outputs": [],
   "source": [
    "df=  cancer.frame\n",
    "df"
   ]
  },
  {
   "cell_type": "code",
   "execution_count": null,
   "id": "21bb8c9a",
   "metadata": {},
   "outputs": [],
   "source": [
    "df.shape"
   ]
  },
  {
   "cell_type": "code",
   "execution_count": null,
   "id": "9a57e1e9",
   "metadata": {},
   "outputs": [],
   "source": [
    "x = df[cancer['feature_names']]\n",
    "x.shape"
   ]
  },
  {
   "cell_type": "code",
   "execution_count": null,
   "id": "ae4de992",
   "metadata": {},
   "outputs": [],
   "source": [
    "# mean\n",
    "x_mean = x.mean()\n",
    "\n",
    "# SD\n",
    "x_std = x.std()\n",
    "\n",
    "# stabdardized\n",
    "z = (x - x_mean)/x_std\n",
    "z"
   ]
  },
  {
   "cell_type": "markdown",
   "id": "49af9908",
   "metadata": {},
   "source": [
    "### covarince matrix"
   ]
  },
  {
   "cell_type": "code",
   "execution_count": null,
   "id": "97f39a63",
   "metadata": {},
   "outputs": [],
   "source": [
    "c = z.cov()\n",
    "c"
   ]
  },
  {
   "cell_type": "code",
   "execution_count": null,
   "id": "d7d45156",
   "metadata": {},
   "outputs": [],
   "source": [
    "# plotting\n",
    "import matplotlib.pyplot as plt\n",
    "import seaborn as sns"
   ]
  },
  {
   "cell_type": "code",
   "execution_count": null,
   "id": "8cfd1b69",
   "metadata": {},
   "outputs": [],
   "source": [
    "sns.heatmap(c)\n",
    "plt.show()"
   ]
  },
  {
   "cell_type": "code",
   "execution_count": null,
   "id": "705c83f4",
   "metadata": {},
   "outputs": [],
   "source": [
    "# eigen values\n",
    "\n",
    "eigval, eigvect = np.linalg.eig(c)"
   ]
  },
  {
   "cell_type": "code",
   "execution_count": null,
   "id": "807f381e",
   "metadata": {},
   "outputs": [],
   "source": [
    "eigval"
   ]
  },
  {
   "cell_type": "code",
   "execution_count": null,
   "id": "b8341265",
   "metadata": {},
   "outputs": [],
   "source": [
    "eigval.shape"
   ]
  },
  {
   "cell_type": "code",
   "execution_count": null,
   "id": "3602091d",
   "metadata": {},
   "outputs": [],
   "source": [
    "eigvect.shape"
   ]
  },
  {
   "cell_type": "markdown",
   "id": "7806ae79",
   "metadata": {},
   "source": [
    "sorting the eigen values and corresponding eigen vectors in descending order\n"
   ]
  },
  {
   "cell_type": "code",
   "execution_count": null,
   "id": "c0e450a1",
   "metadata": {},
   "outputs": [],
   "source": []
  },
  {
   "cell_type": "code",
   "execution_count": null,
   "id": "f24c0044",
   "metadata": {},
   "outputs": [],
   "source": [
    "a = np.array([40,12,32,60])\n",
    "i = a.argsort()[::-1] # decsending order\n",
    "i"
   ]
  },
  {
   "cell_type": "code",
   "execution_count": null,
   "id": "574305ab",
   "metadata": {},
   "outputs": [],
   "source": [
    "i = eigval.argsort()[::-1] # return index of sorted array\n",
    "\n",
    "eigval = eigval[i]\n",
    "eigvect = eigvect[:,i]"
   ]
  },
  {
   "cell_type": "code",
   "execution_count": null,
   "id": "60418dd4",
   "metadata": {},
   "outputs": [],
   "source": [
    "# explained variance\n",
    "\n",
    "a = np.array([1,4,7,9])\n",
    "print(np.cumsum(a))\n",
    "print(np.sum(a))"
   ]
  },
  {
   "cell_type": "code",
   "execution_count": null,
   "id": "8553a4d3",
   "metadata": {},
   "outputs": [],
   "source": [
    "explained_variance = np.cumsum(eigval)/np.sum(eigval)\n",
    "explained_variance"
   ]
  },
  {
   "cell_type": "code",
   "execution_count": null,
   "id": "100568ca",
   "metadata": {},
   "outputs": [],
   "source": [
    "n = np.argmax(explained_variance > 0.5) + 1\n",
    "n"
   ]
  },
  {
   "cell_type": "code",
   "execution_count": null,
   "id": "2fde1755",
   "metadata": {},
   "outputs": [],
   "source": [
    "# projecting the data into selected principal components\n",
    "\n",
    "u = eigvect[:,:n]\n",
    "pca_component = pd.DataFrame(u,\n",
    "                             index = cancer['feature_names'],\n",
    "                            columns = ['pc1',\"pc2\"])\n",
    "pca_component"
   ]
  },
  {
   "cell_type": "code",
   "execution_count": null,
   "id": "5acd8e44",
   "metadata": {},
   "outputs": [],
   "source": [
    "sns.heatmap(pca_component)"
   ]
  },
  {
   "cell_type": "code",
   "execution_count": null,
   "id": "2a66993f",
   "metadata": {},
   "outputs": [],
   "source": [
    "z_pca = z @ pca_component\n",
    "z_pca = pd.DataFrame(z_pca.values,\n",
    "                    columns = ['pca1','pca2'])\n",
    "\n",
    "z_pca"
   ]
  },
  {
   "cell_type": "code",
   "execution_count": null,
   "id": "3e51682c",
   "metadata": {},
   "outputs": [],
   "source": []
  }
 ],
 "metadata": {
  "kernelspec": {
   "display_name": "Python 3 (ipykernel)",
   "language": "python",
   "name": "python3"
  },
  "language_info": {
   "codemirror_mode": {
    "name": "ipython",
    "version": 3
   },
   "file_extension": ".py",
   "mimetype": "text/x-python",
   "name": "python",
   "nbconvert_exporter": "python",
   "pygments_lexer": "ipython3",
   "version": "3.11.1"
  }
 },
 "nbformat": 4,
 "nbformat_minor": 5
}
