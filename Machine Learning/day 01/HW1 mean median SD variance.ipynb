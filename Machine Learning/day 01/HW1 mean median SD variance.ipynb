{
 "cells": [
  {
   "cell_type": "markdown",
   "id": "07029a16",
   "metadata": {},
   "source": [
    "# HW1 \n",
    "## mean median SD variance"
   ]
  },
  {
   "cell_type": "markdown",
   "id": "713abc45",
   "metadata": {},
   "source": [
    "### An intro about statistics terminologies:\n",
    "#### Mean/Average:\n",
    "The mean is the average of the numbers.\n",
    "It is easy to calculate: add up all the numbers, then divide by how many numbers there are.\n",
    "\n",
    "Eg: 6, 11, 7  \n",
    "Add the numbers: 6 + 11 + 7 = 24  \n",
    "Divide by how many numbers (there are 3 numbers): 24 / 3 = 8\n",
    "\n",
    "#### Median:\n",
    "The Median is the \"middle\" of a sorted list of numbers.\n",
    "\n",
    "Eg: Median of 12, 3 and 5 (odd count)  \n",
    "Put them in order:\n",
    "3, 5, 12  \n",
    "The middle is 5, so the median is 5.\n",
    "\n",
    "12 3 5 6  \n",
    "3 4 6 12  \n",
    "4+6 =10/2=5\n",
    "\n",
    "#### Mode:\n",
    "The mode is simply the number which appears most often.\n",
    "\n",
    "Example {6, 3, 9, 6, 6, 5, 9, 3}   \n",
    "the Mode is 6, as it occurs most often.\n",
    "We can have more than one mode.  \n",
    "\n",
    "{1, 3, 3, 3, 4, 4, 6, 6, 6, 9}  \n",
    "3 appears three times, as does 6.\n",
    "So there are two modes: at 3 and 6  \n",
    "Having two modes is called \"bimodal\".\n",
    "Having more than two modes is called \"multimodal\".\n",
    "\n",
    "\n",
    "#### Standard Deviation\n",
    "The Standard Deviation is a measure of how spread out numbers are.\n",
    "Its symbol is σ (the greek letter sigma)  \n",
    "The formula is the square root of the Variance.\n",
    "\n",
    "σ  = √ Variance\n",
    "\n",
    "#### Variance\n",
    "The average of the squared differences from the Mean.\n",
    "Variance is calculated to see how far the values are from the mean.\n",
    "\n",
    "To calculate the variance follow these steps:  \n",
    "Sort the values and find Mean  (the simple average of the numbers)\n",
    "Then for each number: subtract the Mean and square the numbers (the squared difference).\n",
    "Then work out the average of those squared differences.\n",
    "\n",
    "Eg: 10,14,13,12  \n",
    "After Sorting: 10,12,13,14  \n",
    "Mean=(10+12+13+14)/4=12(12.25 rounded off)  \n",
    "Variance=((12-10)^2+(12-12)^2+(12-13)^2+(12-14)^2)/4=(4+0+1+4)/4=2.25  \n",
    "Standard Deviation= √ 2= 1.5  "
   ]
  },
  {
   "cell_type": "markdown",
   "id": "d6999552",
   "metadata": {},
   "source": [
    "### Writing this in code"
   ]
  },
  {
   "cell_type": "code",
   "execution_count": 1,
   "id": "963d6da9",
   "metadata": {},
   "outputs": [],
   "source": [
    "import numpy as np"
   ]
  },
  {
   "cell_type": "code",
   "execution_count": 2,
   "id": "d4f9b751",
   "metadata": {},
   "outputs": [],
   "source": [
    "# finding mean, median, variance, standard deviation using numpy library\n",
    "def find_values(x):\n",
    "    mean = np.mean(x)\n",
    "    median = np.median(x)\n",
    "    variance = np.var(x)\n",
    "    standard_deviation = np.std(x)\n",
    "    \n",
    "    print(f\"mean = {mean}\\nmedian = {median}\\nvariance = {variance}\\nstandard_deviation = {standard_deviation}\\n\")\n"
   ]
  },
  {
   "cell_type": "markdown",
   "id": "2e4c93c1",
   "metadata": {},
   "source": [
    "taking values 10,14,13,12"
   ]
  },
  {
   "cell_type": "code",
   "execution_count": 3,
   "id": "e401c3b4",
   "metadata": {},
   "outputs": [
    {
     "name": "stdout",
     "output_type": "stream",
     "text": [
      "mean = 12.25\n",
      "median = 12.5\n",
      "variance = 2.1875\n",
      "standard_deviation = 1.479019945774904\n",
      "\n"
     ]
    }
   ],
   "source": [
    "# input values\n",
    "x = np.array([10,14,13,12])\n",
    "\n",
    "# printing values\n",
    "find_values(x)"
   ]
  },
  {
   "cell_type": "markdown",
   "id": "376d2d3e",
   "metadata": {},
   "source": [
    "### Question \n",
    "\n",
    "Now take 15000 is added to the list, how the mean,median, Variance and SD. 10,14,13,12,15000  \n",
    "\n"
   ]
  },
  {
   "cell_type": "code",
   "execution_count": 4,
   "id": "83f2d9ca",
   "metadata": {},
   "outputs": [
    {
     "name": "stdout",
     "output_type": "stream",
     "text": [
      "mean = 3009.8\n",
      "median = 13.0\n",
      "variance = 35941225.760000005\n",
      "standard_deviation = 5995.100145952527\n",
      "\n"
     ]
    }
   ],
   "source": [
    "# input values\n",
    "y = np.array([10,14,13,12,15000])\n",
    "\n",
    "# printing values\n",
    "find_values(y)"
   ]
  },
  {
   "cell_type": "markdown",
   "id": "27368bd4",
   "metadata": {},
   "source": [
    "#### Conclusion\n",
    "median is not affected that much  \n",
    "other values have been drastically changed"
   ]
  },
  {
   "cell_type": "markdown",
   "id": "7b31b48e",
   "metadata": {},
   "source": [
    "### Question \n",
    "Add 10 with 10,14,13,12 which yields 20,24,23,22 and find the mean,median, variance and SD."
   ]
  },
  {
   "cell_type": "code",
   "execution_count": 5,
   "id": "7d3145cb",
   "metadata": {},
   "outputs": [
    {
     "name": "stdout",
     "output_type": "stream",
     "text": [
      "mean = 22.25\n",
      "median = 22.5\n",
      "variance = 2.1875\n",
      "standard_deviation = 1.479019945774904\n",
      "\n"
     ]
    }
   ],
   "source": [
    "# input values\n",
    "y = np.array([20,24,23,22])\n",
    "\n",
    "# printing values\n",
    "find_values(y)"
   ]
  },
  {
   "cell_type": "markdown",
   "id": "45c40e62",
   "metadata": {},
   "source": [
    "#### Conclusion\n",
    "variance and standard deviation remain unchanged  \n",
    "mean and median have changed accoording to the data"
   ]
  }
 ],
 "metadata": {
  "kernelspec": {
   "display_name": "Python 3 (ipykernel)",
   "language": "python",
   "name": "python3"
  },
  "language_info": {
   "codemirror_mode": {
    "name": "ipython",
    "version": 3
   },
   "file_extension": ".py",
   "mimetype": "text/x-python",
   "name": "python",
   "nbconvert_exporter": "python",
   "pygments_lexer": "ipython3",
   "version": "3.11.1"
  }
 },
 "nbformat": 4,
 "nbformat_minor": 5
}
